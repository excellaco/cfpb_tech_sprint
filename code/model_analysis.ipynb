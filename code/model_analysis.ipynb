{
 "cells": [
  {
   "cell_type": "code",
   "execution_count": 1,
   "metadata": {},
   "outputs": [],
   "source": [
    "import os\n",
    "import numpy as np\n",
    "from sklearn.feature_extraction.text import TfidfVectorizer\n",
    "import matplotlib.pyplot as plt\n",
    "plt.rcParams[\"figure.figsize\"] = (20,10)"
   ]
  },
  {
   "cell_type": "code",
   "execution_count": 2,
   "metadata": {},
   "outputs": [],
   "source": [
    "def connected_tuples(pairs):\n",
    "    \"\"\"\n",
    "    Function for finding connected communities from a list of connected tuples\n",
    "    \n",
    "    Input: List of connected tuples\n",
    "    Output: List of connected communities (similarity groups)\n",
    "    \"\"\"\n",
    "    lists_by_element = {}\n",
    "\n",
    "    def make_new_list_for(x, y):\n",
    "        lists_by_element[x] = lists_by_element[y] = [x, y]\n",
    "\n",
    "    def add_element_to_list(lst, el):\n",
    "        lst.append(el)\n",
    "        lists_by_element[el] = lst\n",
    "\n",
    "    def merge_lists(lst1, lst2):\n",
    "        merged_list = lst1 + lst2\n",
    "        for el in merged_list:\n",
    "            lists_by_element[el] = merged_list\n",
    "\n",
    "    for x, y in pairs:\n",
    "        xList = lists_by_element.get(x)\n",
    "        yList = lists_by_element.get(y)\n",
    "\n",
    "        if not xList and not yList:\n",
    "            make_new_list_for(x, y)\n",
    "\n",
    "        if xList and not yList:\n",
    "            add_element_to_list(xList, y)\n",
    "\n",
    "        if yList and not xList:\n",
    "            add_element_to_list(yList, x)            \n",
    "\n",
    "        if xList and yList and xList != yList:\n",
    "            merge_lists(xList, yList)\n",
    "\n",
    "    # return the unique lists present in the dictionary\n",
    "    return set(tuple(l) for l in lists_by_element.values())"
   ]
  },
  {
   "cell_type": "markdown",
   "metadata": {},
   "source": [
    "# Heterogeneous corpus analysis\n",
    "\n",
    "This analysis uses a data set of approximately 2500 simulated documents.  Each simulated document was created from distinct combinations of multiple source documents, simulating a situation where all documents of a corpus are expected to be significantly dissimilar.\n",
    "\n",
    "Out of this set of simulated documents, 15 were duplicated with a small number of targeted differences to create the target set of documents with unusually high similarity to another document."
   ]
  },
  {
   "cell_type": "code",
   "execution_count": 3,
   "metadata": {},
   "outputs": [
    {
     "name": "stdout",
     "output_type": "stream",
     "text": [
      "There are 2521 files\n"
     ]
    }
   ],
   "source": [
    "# Simulated documents are in a folder - this collects their paths for loading\n",
    "text_dir = \"../data/final_data/bills/\"\n",
    "files = [file for file in os.listdir(text_dir) if file[-4:] == \".txt\"]\n",
    "print(f\"There are {len(files)} files\")"
   ]
  },
  {
   "cell_type": "code",
   "execution_count": 4,
   "metadata": {},
   "outputs": [
    {
     "name": "stdout",
     "output_type": "stream",
     "text": [
      "There are 15 target docs\n"
     ]
    }
   ],
   "source": [
    "# count number of target docs based on target file naming convention\n",
    "target_counter = 0\n",
    "for file in files:\n",
    "    if file[-6:] == '_2.txt':\n",
    "        target_counter += 1\n",
    "print(f\"There are {target_counter} target docs\")"
   ]
  },
  {
   "cell_type": "code",
   "execution_count": 5,
   "metadata": {},
   "outputs": [],
   "source": [
    "# Load documents, store as list of strings\n",
    "text = []\n",
    "for file in files:\n",
    "    # ingest single text file\n",
    "    with open(f\"{text_dir}/{file}\") as f:\n",
    "        doc_text = f.read()\n",
    "        text.append(doc_text)"
   ]
  },
  {
   "cell_type": "code",
   "execution_count": 6,
   "metadata": {},
   "outputs": [],
   "source": [
    "# Vectorize documents\n",
    "vectorizer = TfidfVectorizer(norm='l2', max_df=0.99)\n",
    "X = vectorizer.fit_transform(text)"
   ]
  },
  {
   "cell_type": "code",
   "execution_count": 7,
   "metadata": {},
   "outputs": [
    {
     "name": "stdout",
     "output_type": "stream",
     "text": [
      "document adjacency matrix shape: (2521, 2521)\n"
     ]
    }
   ],
   "source": [
    "# Create doc adjacency matrix - equivalent to Cosine similarity when using l2 norm in TfidfVectorizer\n",
    "data = X.dot(X.transpose())\n",
    "print(f\"document adjacency matrix shape: {data.shape}\")"
   ]
  },
  {
   "cell_type": "code",
   "execution_count": 8,
   "metadata": {},
   "outputs": [
    {
     "data": {
      "image/png": "[encoded data removed]",
      "text/plain": [
       "<Figure size 1440x720 with 1 Axes>"
      ]
     },
     "metadata": {
      "needs_background": "light"
     },
     "output_type": "display_data"
    }
   ],
   "source": [
    "# Create histogram of cosine distances between all document pairs\n",
    "# This helps in setting a threshold for identifying candidate document pairs\n",
    "\n",
    "temp_array = data.toarray()\n",
    "temp_array = np.triu(temp_array, k=1)\n",
    "temp_array_elements = temp_array.flatten()\n",
    "temp_array_elements = temp_array_elements[temp_array_elements > 0]\n",
    "\n",
    "_ = plt.hist(temp_array_elements, bins=500)  # arguments are passed to np.histogram\n",
    "plt.yscale('log')\n",
    "plt.title(\"Pairwise cosine similarity\")\n",
    "plt.show()"
   ]
  },
  {
   "cell_type": "code",
   "execution_count": 9,
   "metadata": {},
   "outputs": [
    {
     "data": {
      "image/png": "[encoded data removed]",
      "text/plain": [
       "<Figure size 1440x720 with 1 Axes>"
      ]
     },
     "metadata": {
      "needs_background": "light"
     },
     "output_type": "display_data"
    }
   ],
   "source": [
    "# Set lower threshold for cosine similarity for target documents, view resulting histogram\n",
    "#\n",
    "# Note: in a real world situation, we don't know which documents are target documents.\n",
    "# Therefore, setting this threshold represents an assumption about how much similarity\n",
    "# target docments ought to have, and how the cosine similarity distribution \n",
    "# might offer clues on an optimal threshold value.\n",
    "\n",
    "threshold = 0.4\n",
    "_ = plt.hist(temp_array_elements[temp_array_elements > threshold], bins=100)\n",
    "plt.title(\"Pairwise cosine similarity\")\n",
    "plt.yscale('log')\n",
    "plt.show()"
   ]
  },
  {
   "cell_type": "code",
   "execution_count": 10,
   "metadata": {},
   "outputs": [
    {
     "name": "stdout",
     "output_type": "stream",
     "text": [
      "72 potential documents of interest were discovered using a threshold of 0.4\n",
      "_________________________________________\n",
      "\n",
      "The following 15 target documents were included:\n",
      "\n",
      "Alan_Bell-6-1380-3963_2.txt\n",
      "Alexandra_Turner-8-1759-4090_2.txt\n",
      "Alyssa_Welch-2-2236-0718_2.txt\n",
      "Bianca_Cobb-1-2842-1993_2.txt\n",
      "Bradley_Johnson-2-4763-9635_2.txt\n",
      "Brooke_Mcfarland-4-5891-9335_2.txt\n",
      "Carlos_Wong-1-8298-5922_2.txt\n",
      "Chelsea_Cobb-4-9518-0841_2.txt\n",
      "Cynthia_Murray-1-1683-7547_2.txt\n",
      "Daniel_King-5-0701-0049 _2.txt\n",
      "Darrell_Perkins_MD-6-3740-7487_2.txt\n",
      "Elizabeth_Williams-2-4416-5310_2.txt\n",
      "Frank_Gordon-1-4199-6510_2.txt\n",
      "George_Fleming-8-7663-9881_2.txt\n",
      "Heather_Carter-5-1444-7942_2.txt\n"
     ]
    }
   ],
   "source": [
    "# Using threshold, identify documents of interest from similarity matrix\n",
    "temp_array = data.toarray()\n",
    "np.fill_diagonal(temp_array, 0)\n",
    "potential_doc_pairs = np.argwhere(temp_array >= threshold)\n",
    "\n",
    "potential_docs = []\n",
    "for item in potential_doc_pairs:\n",
    "    potential_docs.append(item[0])\n",
    "    \n",
    "potential_docs = sorted(set(potential_docs))\n",
    "\n",
    "print(f\"{len(potential_docs)} potential documents of interest were discovered using a threshold of {threshold}\\n_________________________________________\")\n",
    "\n",
    "target_doc_count = 0\n",
    "target_docs = []\n",
    "for potential_doc in potential_docs:\n",
    "    if files[potential_doc][-6:] == '_2.txt':\n",
    "        target_doc_count += 1\n",
    "        target_docs.append(files[potential_doc])\n",
    "print(f\"\\nThe following {target_doc_count} target documents were included:\\n\")\n",
    "for target_doc in target_docs:\n",
    "    print(target_doc)"
   ]
  },
  {
   "cell_type": "code",
   "execution_count": 11,
   "metadata": {
    "scrolled": true
   },
   "outputs": [
    {
     "name": "stdout",
     "output_type": "stream",
     "text": [
      "***** Similarity Group 1 *****\n",
      "['Alexandra_Turner-8-1759-4090.txt', 'Alexandra_Turner-8-1759-4090_2.txt']\n",
      "\n",
      "\n",
      "***** Similarity Group 2 *****\n",
      "['Bradley_Johnson-2-4763-9635.txt', 'Bradley_Johnson-2-4763-9635_2.txt']\n",
      "\n",
      "\n",
      "***** Similarity Group 3 *****\n",
      "['George_Fleming-8-7663-9881.txt', 'George_Fleming-8-7663-9881_2.txt']\n",
      "\n",
      "\n",
      "***** Similarity Group 4 *****\n",
      "['Alyssa_Welch-2-2236-0718.txt', 'Alyssa_Welch-2-2236-0718_2.txt']\n",
      "\n",
      "\n",
      "***** Similarity Group 5 *****\n",
      "['Bianca_Cobb-1-2842-1993.txt', 'Bianca_Cobb-1-2842-1993_2.txt']\n",
      "\n",
      "\n",
      "***** Similarity Group 6 *****\n",
      "['Brooke_Mcfarland-4-5891-9335.txt', 'Brooke_Mcfarland-4-5891-9335_2.txt']\n",
      "\n",
      "\n",
      "***** Similarity Group 7 *****\n",
      "['Carlos_Wong-1-8298-5922.txt', 'Carlos_Wong-1-8298-5922_2.txt']\n",
      "\n",
      "\n",
      "***** Similarity Group 8 *****\n",
      "['Daniel_King-5-0701-0049 _2.txt', 'Daniel_King-5-0701-0049.txt']\n",
      "\n",
      "\n",
      "***** Similarity Group 9 *****\n",
      "['Heather_Carter-5-1444-7942.txt', 'Heather_Carter-5-1444-7942_2.txt']\n",
      "\n",
      "\n",
      "***** Similarity Group 10 *****\n",
      "['Darrell_Perkins_MD-6-3740-7487.txt', 'Darrell_Perkins_MD-6-3740-7487_2.txt']\n",
      "\n",
      "\n",
      "***** Similarity Group 11 *****\n",
      "['Chelsea_Cobb-4-9518-0841.txt', 'Chelsea_Cobb-4-9518-0841_2.txt']\n",
      "\n",
      "\n",
      "***** Similarity Group 12 *****\n",
      "['Elizabeth_Williams-2-4416-5310.txt', 'Elizabeth_Williams-2-4416-5310_2.txt']\n",
      "\n",
      "\n",
      "***** Similarity Group 13 *****\n",
      "['Frank_Gordon-1-4199-6510.txt', 'Frank_Gordon-1-4199-6510_2.txt']\n",
      "\n",
      "\n",
      "***** Similarity Group 14 *****\n",
      "['Cynthia_Murray-1-1683-7547.txt', 'Cynthia_Murray-1-1683-7547_2.txt']\n",
      "\n",
      "\n",
      "***** Similarity Group 15 *****\n",
      "['Alan_Bell-6-1380-3963.txt', 'Alan_Bell-6-1380-3963_2.txt']\n",
      "\n",
      "\n",
      "***** Similarity Group 16 *****\n",
      "['Chris_Parrish-9-9586-4432.txt', 'Taylor_Soto-7-6039-0351.txt', 'Barbara_Blair-7-8394-2291.txt', 'Bernard_Joseph-5-3163-5534.txt', 'Brandon_Smith-6-3074-2016.txt', 'Brandon_Werner-4-1971-4352.txt', 'Brenda_Walker-1-3008-2295.txt', 'Dennis_Byrd-3-8015-6954.txt', 'Edwin_Johnson-9-2802-3525.txt', 'Jimmy_Carter-2-4498-3647.txt', 'Jose_Lopez-7-7956-6617.txt', 'Joshua_Johnson-4-2997-5177.txt', 'Kyle_Clark-6-9224-8591.txt', 'Laura_Hall-8-2780-7441.txt', 'Matthew_Stafford-3-8528-7897.txt', 'Michael_Williams-9-4599-1667.txt', 'Robert_Lynn-7-1936-5255.txt', 'Ronald_Contreras-9-5771-9551.txt', 'Sandra_Hill-3-2882-1033.txt', 'Sarah_Clark-8-1835-7790.txt', 'Chad_Jarvis-8-8085-6366.txt', 'Connie_Moss-4-8933-6336.txt', 'David_Malone-8-8919-6818.txt', 'Donna_Middleton-2-1382-9172.txt', 'Gerald_Smith-5-7784-6005.txt', 'Hector_Wade-2-2482-2131.txt', 'Jennifer_Walsh-6-4157-5736.txt', 'Jeremy_Johnston-3-5776-3518.txt', 'Joe_Tran-7-0388-1932.txt', 'Julie_Bates-8-1268-8855.txt', 'Kelly_Wells-3-0383-1283.txt', 'Kurt_Johnson-2-1924-8314.txt', 'Micheal_Schroeder-1-6075-7203.txt', 'Patricia_Thornton-1-7955-5085.txt', 'Robert_Hunter-3-5893-0593.txt', 'Robert_Moreno-7-9440-0234.txt', 'Shawn_Davis-2-6293-0977.txt', 'Sonia_Tucker-8-7980-7853.txt', 'Tammy_Davis-6-9519-0735.txt', 'Trevor_Wright-2-2870-7229.txt', 'Jeffrey_Welch-1-7324-5583.txt', 'Timothy_Pratt-7-9975-0512.txt']\n",
      "\n",
      "\n"
     ]
    }
   ],
   "source": [
    "# Compile list of detected clusters\n",
    "clusters = connected_tuples(potential_doc_pairs)\n",
    "\n",
    "clusters_files = []\n",
    "for cluster in clusters:\n",
    "    cluster_files = []\n",
    "    for doc in cluster:\n",
    "        cluster_files.append(files[doc])\n",
    "    clusters_files.append(cluster_files)\n",
    "clusters_files.sort(key=len)\n",
    "\n",
    "for i, cluster in enumerate(clusters_files):\n",
    "    print(f\"***** Similarity Group {i+1} *****\\n{cluster}\\n\\n\")"
   ]
  },
  {
   "cell_type": "markdown",
   "metadata": {},
   "source": [
    "# Homogeneous corpus analysis\n",
    "\n",
    "This analysis uses a data set of approximately 2500 simulated documents.  Each simulated document was created from a single source document (a sample Pepco utility bill), simulating a situation where all documents of a corpus are expected to be significantly similar. \n",
    "\n",
    "Out of this set of simulated documents, 15 were duplicated with a small number of targeted differences to create the target set of documents with unusually high similarity to another document."
   ]
  },
  {
   "cell_type": "code",
   "execution_count": 12,
   "metadata": {},
   "outputs": [
    {
     "name": "stdout",
     "output_type": "stream",
     "text": [
      "There are 2515 files\n"
     ]
    }
   ],
   "source": [
    "# Simulated documents are in a folder - this collects their paths for loading\n",
    "text_dir = \"../data/final_data/pepco_bills/\"\n",
    "files = [file for file in os.listdir(text_dir) if file[-4:] == \".txt\"]\n",
    "print(f\"There are {len(files)} files\")"
   ]
  },
  {
   "cell_type": "code",
   "execution_count": 13,
   "metadata": {},
   "outputs": [
    {
     "name": "stdout",
     "output_type": "stream",
     "text": [
      "There are 15 target docs\n"
     ]
    }
   ],
   "source": [
    "# count number of target docs based on target file naming convention\n",
    "target_counter = 0\n",
    "for file in files:\n",
    "    if (\n",
    "        (file[-5:] == 'A.txt')\n",
    "        | (file[-5:] == 'B.txt')\n",
    "        | (file[-5:] == 'C.txt')\n",
    "        | (file[-5:] == 'D.txt')\n",
    "        | (file[-5:] == 'E.txt')\n",
    "        | (file[-5:] == 'F.txt')\n",
    "    ):\n",
    "        target_counter += 1\n",
    "print(f\"There are {target_counter} target docs\")"
   ]
  },
  {
   "cell_type": "code",
   "execution_count": 14,
   "metadata": {},
   "outputs": [],
   "source": [
    "# Load documents, store as list of strings\n",
    "text = []\n",
    "for file in files:\n",
    "    # ingest single text file\n",
    "    with open(f\"{text_dir}/{file}\") as f:\n",
    "        doc_text = f.read()\n",
    "        text.append(doc_text)"
   ]
  },
  {
   "cell_type": "code",
   "execution_count": 15,
   "metadata": {},
   "outputs": [],
   "source": [
    "# Vectorize documents\n",
    "vectorizer = TfidfVectorizer(norm='l2', max_df=0.99)\n",
    "X = vectorizer.fit_transform(text)"
   ]
  },
  {
   "cell_type": "code",
   "execution_count": 16,
   "metadata": {},
   "outputs": [
    {
     "name": "stdout",
     "output_type": "stream",
     "text": [
      "document adjacency matrix shape: (2515, 2515)\n"
     ]
    }
   ],
   "source": [
    "# Create doc adjacency matrix - equivalent to Cosine similarity when using l2 norm in TfidfVectorizer\n",
    "data = X.dot(X.transpose())\n",
    "print(f\"document adjacency matrix shape: {data.shape}\")"
   ]
  },
  {
   "cell_type": "code",
   "execution_count": 17,
   "metadata": {},
   "outputs": [
    {
     "data": {
      "image/png": "[encoded data removed]",
      "text/plain": [
       "<Figure size 1440x720 with 1 Axes>"
      ]
     },
     "metadata": {
      "needs_background": "light"
     },
     "output_type": "display_data"
    }
   ],
   "source": [
    "# Create histogram of cosine distances between all document pairs\n",
    "# This helps in setting a threshold for identifying candidate document pairs\n",
    "\n",
    "temp_array = data.toarray()\n",
    "temp_array = np.triu(temp_array, k=1)\n",
    "temp_array_elements = temp_array.flatten()\n",
    "temp_array_elements = temp_array_elements[temp_array_elements > 0]\n",
    "\n",
    "_ = plt.hist(temp_array_elements, bins=500)  # arguments are passed to np.histogram\n",
    "plt.yscale('log')\n",
    "plt.title(\"Pairwise cosine similarity\")\n",
    "plt.show()"
   ]
  },
  {
   "cell_type": "code",
   "execution_count": 18,
   "metadata": {},
   "outputs": [
    {
     "data": {
      "image/png": "[encoded data removed]",
      "text/plain": [
       "<Figure size 1440x720 with 1 Axes>"
      ]
     },
     "metadata": {
      "needs_background": "light"
     },
     "output_type": "display_data"
    }
   ],
   "source": [
    "# Set lower threshold for cosine similarity for target documents, view resulting histogram\n",
    "#\n",
    "# Note: in a real world situation, we don't know which documents are target documents.\n",
    "# Therefore, setting this threshold represents an assumption about how much similarity\n",
    "# target docments ought to have, and how the cosine similarity distribution \n",
    "# might offer clues on an optimal threshold value.\n",
    "\n",
    "threshold = 0.6\n",
    "_ = plt.hist(temp_array_elements[temp_array_elements > threshold], bins=100)\n",
    "plt.title(\"Pairwise cosine similarity\")\n",
    "#plt.yscale('log')\n",
    "plt.show()"
   ]
  },
  {
   "cell_type": "code",
   "execution_count": 19,
   "metadata": {},
   "outputs": [
    {
     "name": "stdout",
     "output_type": "stream",
     "text": [
      "30 potential documents of interest were discovered using a threshold of 0.6\n",
      "_________________________________________\n",
      "\n",
      "The following 15 potential documents were target documents:\n",
      "\n",
      "Aaron_Wright-9-8329-8038_A.txt\n",
      "Kristen_Sanchez-5-6336-6998_F.txt\n",
      "Mark_Carter-3-1186-5497_B.txt\n",
      "Mary_Robertson-2-6431-6188_F.txt\n",
      "Michael_James-3-2217-0141_C.txt\n",
      "Mr._Lance_Sullivan-8-0737-2346_F.txt\n",
      "Phillip_Turner-7-0222-2716_D.txt\n",
      "Renee_Sanchez-8-7432-1741_F.txt\n",
      "Stacey_Smith-3-0393-2895_D.txt\n",
      "Stephanie_Pham-5-2033-3910_C.txt\n",
      "Tammy_Dillon-6-7389-3421_E.txt\n",
      "Victoria_Cole-6-8186-1770_E.txt\n",
      "William_Bryant-4-6878-9934_B.txt\n",
      "William_Curry-2-0708-4364_F.txt\n",
      "Zachary_Brady-3-0628-5093_A.txt\n"
     ]
    }
   ],
   "source": [
    "# Using threshold, identify documents of interest from similarity matrix\n",
    "temp_array = data.toarray()\n",
    "np.fill_diagonal(temp_array, 0)\n",
    "potential_doc_pairs = np.argwhere(temp_array >= threshold)\n",
    "\n",
    "potential_docs = []\n",
    "for item in potential_doc_pairs:\n",
    "    potential_docs.append(item[0])\n",
    "    \n",
    "potential_docs = sorted(set(potential_docs))\n",
    "\n",
    "print(f\"{len(potential_docs)} potential documents of interest were discovered using a threshold of {threshold}\\n_________________________________________\")\n",
    "\n",
    "target_doc_count = 0\n",
    "target_docs = []\n",
    "for potential_doc in potential_docs:\n",
    "    if (\n",
    "        (files[potential_doc][-5:] == 'A.txt')\n",
    "        | (files[potential_doc][-5:] == 'B.txt')\n",
    "        | (files[potential_doc][-5:] == 'C.txt')\n",
    "        | (files[potential_doc][-5:] == 'D.txt')\n",
    "        | (files[potential_doc][-5:] == 'E.txt')\n",
    "        | (files[potential_doc][-5:] == 'F.txt')\n",
    "    ):\n",
    "        target_doc_count += 1\n",
    "        target_docs.append(files[potential_doc])\n",
    "print(f\"\\nThe following {target_doc_count} potential documents were target documents:\\n\")\n",
    "for target_doc in target_docs:\n",
    "    print(target_doc)"
   ]
  },
  {
   "cell_type": "code",
   "execution_count": 20,
   "metadata": {
    "scrolled": true
   },
   "outputs": [
    {
     "name": "stdout",
     "output_type": "stream",
     "text": [
      "***** Similarity Group 1 *****\n",
      "['Mr._Lance_Sullivan-8-0737-2346.txt', 'Mr._Lance_Sullivan-8-0737-2346_F.txt']\n",
      "\n",
      "\n",
      "***** Similarity Group 2 *****\n",
      "['Stacey_Smith-3-0393-2895.txt', 'Stacey_Smith-3-0393-2895_D.txt']\n",
      "\n",
      "\n",
      "***** Similarity Group 3 *****\n",
      "['Mary_Robertson-2-6431-6188.txt', 'Mary_Robertson-2-6431-6188_F.txt']\n",
      "\n",
      "\n",
      "***** Similarity Group 4 *****\n",
      "['Renee_Sanchez-8-7432-1741.txt', 'Renee_Sanchez-8-7432-1741_F.txt']\n",
      "\n",
      "\n",
      "***** Similarity Group 5 *****\n",
      "['Mark_Carter-3-1186-5497.txt', 'Mark_Carter-3-1186-5497_B.txt']\n",
      "\n",
      "\n",
      "***** Similarity Group 6 *****\n",
      "['Victoria_Cole-6-8186-1770.txt', 'Victoria_Cole-6-8186-1770_E.txt']\n",
      "\n",
      "\n",
      "***** Similarity Group 7 *****\n",
      "['Zachary_Brady-3-0628-5093.txt', 'Zachary_Brady-3-0628-5093_A.txt']\n",
      "\n",
      "\n",
      "***** Similarity Group 8 *****\n",
      "['William_Curry-2-0708-4364.txt', 'William_Curry-2-0708-4364_F.txt']\n",
      "\n",
      "\n",
      "***** Similarity Group 9 *****\n",
      "['Stephanie_Pham-5-2033-3910.txt', 'Stephanie_Pham-5-2033-3910_C.txt']\n",
      "\n",
      "\n",
      "***** Similarity Group 10 *****\n",
      "['Kristen_Sanchez-5-6336-6998.txt', 'Kristen_Sanchez-5-6336-6998_F.txt']\n",
      "\n",
      "\n",
      "***** Similarity Group 11 *****\n",
      "['Tammy_Dillon-6-7389-3421.txt', 'Tammy_Dillon-6-7389-3421_E.txt']\n",
      "\n",
      "\n",
      "***** Similarity Group 12 *****\n",
      "['Aaron_Wright-9-8329-8038.txt', 'Aaron_Wright-9-8329-8038_A.txt']\n",
      "\n",
      "\n",
      "***** Similarity Group 13 *****\n",
      "['William_Bryant-4-6878-9934.txt', 'William_Bryant-4-6878-9934_B.txt']\n",
      "\n",
      "\n",
      "***** Similarity Group 14 *****\n",
      "['Phillip_Turner-7-0222-2716.txt', 'Phillip_Turner-7-0222-2716_D.txt']\n",
      "\n",
      "\n",
      "***** Similarity Group 15 *****\n",
      "['Michael_James-3-2217-0141.txt', 'Michael_James-3-2217-0141_C.txt']\n",
      "\n",
      "\n"
     ]
    }
   ],
   "source": [
    "# Compile list of detected clusters\n",
    "clusters = connected_tuples(potential_doc_pairs)\n",
    "\n",
    "clusters_files = []\n",
    "for cluster in clusters:\n",
    "    cluster_files = []\n",
    "    for doc in cluster:\n",
    "        cluster_files.append(files[doc])\n",
    "    clusters_files.append(cluster_files)\n",
    "clusters_files.sort(key=len)\n",
    "\n",
    "for i, cluster in enumerate(clusters_files):\n",
    "    print(f\"***** Similarity Group {i+1} *****\\n{cluster}\\n\\n\")"
   ]
  },
  {
   "cell_type": "code",
   "execution_count": null,
   "metadata": {},
   "outputs": [],
   "source": []
  }
 ],
 "metadata": {
  "kernelspec": {
   "display_name": "ocr",
   "language": "python",
   "name": "ocr"
  },
  "language_info": {
   "codemirror_mode": {
    "name": "ipython",
    "version": 3
   },
   "file_extension": ".py",
   "mimetype": "text/x-python",
   "name": "python",
   "nbconvert_exporter": "python",
   "pygments_lexer": "ipython3",
   "version": "3.7.7"
  }
 },
 "nbformat": 4,
 "nbformat_minor": 4
}
